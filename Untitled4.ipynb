{
 "cells": [
  {
   "cell_type": "code",
   "execution_count": 13,
   "id": "8ab0fd7a",
   "metadata": {},
   "outputs": [
    {
     "name": "stdout",
     "output_type": "stream",
     "text": [
      "[2002, 2009, 2016, 2023, 2037, 2044, 2051, 2058, 2072, 2079, 2086, 2093, 2107, 2114, 2121, 2128, 2142, 2149, 2156, 2163, 2177, 2184, 2191, 2198, 2212, 2219, 2226, 2233, 2247, 2254, 2261, 2268, 2282, 2289, 2296, 2303, 2317, 2324, 2331, 2338, 2352, 2359, 2366, 2373, 2387, 2394, 2401, 2408, 2422, 2429, 2436, 2443, 2457, 2464, 2471, 2478, 2492, 2499, 2506, 2513, 2527, 2534, 2541, 2548, 2562, 2569, 2576, 2583, 2597, 2604, 2611, 2618, 2632, 2639, 2646, 2653, 2667, 2674, 2681, 2688, 2702, 2709, 2716, 2723, 2737, 2744, 2751, 2758, 2772, 2779, 2786, 2793, 2807, 2814, 2821, 2828, 2842, 2849, 2856, 2863, 2877, 2884, 2891, 2898, 2912, 2919, 2926, 2933, 2947, 2954, 2961, 2968, 2982, 2989, 2996, 3003, 3017, 3024, 3031, 3038, 3052, 3059, 3066, 3073, 3087, 3094, 3101, 3108, 3122, 3129, 3136, 3143, 3157, 3164, 3171, 3178, 3192, 3199]\n"
     ]
    }
   ],
   "source": [
    "#exo1\n",
    "a=2000\n",
    "b=3200\n",
    "c=7\n",
    "d=5\n",
    "x=[]\n",
    "for i in range (a,b,1) :\n",
    "    if i%c==0 and i%d!=0 :\n",
    "        x.append(i)\n",
    "print (x)"
   ]
  },
  {
   "cell_type": "code",
   "execution_count": 10,
   "id": "92eeba9e",
   "metadata": {},
   "outputs": [
    {
     "name": "stdout",
     "output_type": "stream",
     "text": [
      "Enter a positive integer :0\n",
      "1\n"
     ]
    }
   ],
   "source": [
    "#exo2\n",
    "x=int(input('Enter a positive integer :'))\n",
    "if x<0:\n",
    "    print ('It must be a positivee integer ')\n",
    "else : \n",
    "    f=1\n",
    "    for i in range (x,1,-1) :\n",
    "        f=f*i\n",
    "    print (f)"
   ]
  },
  {
   "cell_type": "code",
   "execution_count": 11,
   "id": "cb942484",
   "metadata": {},
   "outputs": [
    {
     "name": "stdout",
     "output_type": "stream",
     "text": [
      "Enter a number: 8\n",
      "{1: 1, 2: 4, 3: 9, 4: 16, 5: 25, 6: 36, 7: 49, 8: 64}\n"
     ]
    }
   ],
   "source": [
    "#exo3\n",
    "n=int(input('Enter a number: '))\n",
    "d={}\n",
    "for i in range (1,n+1) :\n",
    "    d[i]=i*i\n",
    "print(d)"
   ]
  },
  {
   "cell_type": "code",
   "execution_count": 12,
   "id": "843e54e2",
   "metadata": {},
   "outputs": [
    {
     "name": "stdout",
     "output_type": "stream",
     "text": [
      "Enter n :3\n",
      "Enter a string : linagh\n",
      "lingh\n"
     ]
    }
   ],
   "source": [
    "#exo4\n",
    "n=int(input('Enter n :'))\n",
    "s=input('Enter a string : ')\n",
    "if n>=len(s):\n",
    "    print ('n must be <length(s)')\n",
    "else :\n",
    "    b=s[0:n]\n",
    "    c=s[n+1:len(s)]\n",
    "    r=b+c\n",
    "    print (r)"
   ]
  },
  {
   "cell_type": "code",
   "execution_count": 6,
   "id": "a2c75154",
   "metadata": {},
   "outputs": [
    {
     "name": "stdout",
     "output_type": "stream",
     "text": [
      "[[ 1. -1.]\n",
      " [-1.  1.]]\n"
     ]
    }
   ],
   "source": [
    "#exo6\n",
    "import numpy as np\n",
    "a1=np.array([0,1,2])\n",
    "a2=np.array([2,1,0])\n",
    "cm=np.cov(a1, a2)\n",
    "print(cm)"
   ]
  },
  {
   "cell_type": "code",
   "execution_count": 14,
   "id": "0dbc5bbd",
   "metadata": {},
   "outputs": [
    {
     "name": "stdout",
     "output_type": "stream",
     "text": [
      "[[0 1]\n",
      " [2 3]\n",
      " [4 5]]\n",
      "[[0, 1], [2, 3], [4, 5]]\n"
     ]
    }
   ],
   "source": [
    "#exo5\n",
    "import numpy as np\n",
    "oa=np.array([[0, 1], [2, 3],[4, 5]])\n",
    "ls=oa.tolist()\n",
    "print(oa)\n",
    "print(ls)"
   ]
  },
  {
   "cell_type": "code",
   "execution_count": 15,
   "id": "8f9d5b51",
   "metadata": {},
   "outputs": [
    {
     "name": "stdout",
     "output_type": "stream",
     "text": [
      "Enter your values in a comma-separated sequence : 34,57,60\n",
      "Results :  [10.64581294844754, 13.784048752090222, 14.142135623730951]\n"
     ]
    }
   ],
   "source": [
    "#exo7\n",
    "import math\n",
    "c=50\n",
    "h=30\n",
    "d= input ('Enter your values in a comma-separated sequence : ')\n",
    "dv=d.split(',')\n",
    "r=[]\n",
    "for j in dv:\n",
    "    q=math.sqrt((2*c* int (j))/h)\n",
    "    r.append(q)\n",
    "print('Results : ',r)"
   ]
  },
  {
   "cell_type": "code",
   "execution_count": null,
   "id": "255db6ad",
   "metadata": {},
   "outputs": [],
   "source": []
  }
 ],
 "metadata": {
  "kernelspec": {
   "display_name": "Python 3 (ipykernel)",
   "language": "python",
   "name": "python3"
  },
  "language_info": {
   "codemirror_mode": {
    "name": "ipython",
    "version": 3
   },
   "file_extension": ".py",
   "mimetype": "text/x-python",
   "name": "python",
   "nbconvert_exporter": "python",
   "pygments_lexer": "ipython3",
   "version": "3.11.5"
  }
 },
 "nbformat": 4,
 "nbformat_minor": 5
}
