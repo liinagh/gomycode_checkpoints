{
 "cells": [
  {
   "cell_type": "code",
   "execution_count": 2,
   "id": "c8157c9d",
   "metadata": {
    "scrolled": true
   },
   "outputs": [
    {
     "name": "stdout",
     "output_type": "stream",
     "text": [
      "  CUST_ID      BALANCE  BALANCE_FREQUENCY  PURCHASES  ONEOFF_PURCHASES  \\\n",
      "0  C10001    40.900749           0.818182      95.40              0.00   \n",
      "1  C10002  3202.467416           0.909091       0.00              0.00   \n",
      "2  C10003  2495.148862           1.000000     773.17            773.17   \n",
      "3  C10004  1666.670542           0.636364    1499.00           1499.00   \n",
      "4  C10005   817.714335           1.000000      16.00             16.00   \n",
      "\n",
      "   INSTALLMENTS_PURCHASES  CASH_ADVANCE  PURCHASES_FREQUENCY  \\\n",
      "0                    95.4      0.000000             0.166667   \n",
      "1                     0.0   6442.945483             0.000000   \n",
      "2                     0.0      0.000000             1.000000   \n",
      "3                     0.0    205.788017             0.083333   \n",
      "4                     0.0      0.000000             0.083333   \n",
      "\n",
      "   ONEOFF_PURCHASES_FREQUENCY  PURCHASES_INSTALLMENTS_FREQUENCY  \\\n",
      "0                    0.000000                          0.083333   \n",
      "1                    0.000000                          0.000000   \n",
      "2                    1.000000                          0.000000   \n",
      "3                    0.083333                          0.000000   \n",
      "4                    0.083333                          0.000000   \n",
      "\n",
      "   CASH_ADVANCE_FREQUENCY  CASH_ADVANCE_TRX  PURCHASES_TRX  CREDIT_LIMIT  \\\n",
      "0                0.000000                 0              2        1000.0   \n",
      "1                0.250000                 4              0        7000.0   \n",
      "2                0.000000                 0             12        7500.0   \n",
      "3                0.083333                 1              1        7500.0   \n",
      "4                0.000000                 0              1        1200.0   \n",
      "\n",
      "      PAYMENTS  MINIMUM_PAYMENTS  PRC_FULL_PAYMENT  TENURE  \n",
      "0   201.802084        139.509787          0.000000      12  \n",
      "1  4103.032597       1072.340217          0.222222      12  \n",
      "2   622.066742        627.284787          0.000000      12  \n",
      "3     0.000000               NaN          0.000000      12  \n",
      "4   678.334763        244.791237          0.000000      12  \n"
     ]
    }
   ],
   "source": [
    "#K-means & H clustering\n",
    "import pandas as pd\n",
    "df=pd.read_csv(r\"C:\\Users\\linag\\Downloads\\CC GENERAL.csv\", sep=',')\n",
    "print(df.head())"
   ]
  },
  {
   "cell_type": "code",
   "execution_count": null,
   "id": "ca5ff3e3",
   "metadata": {},
   "outputs": [],
   "source": []
  }
 ],
 "metadata": {
  "kernelspec": {
   "display_name": "Python 3 (ipykernel)",
   "language": "python",
   "name": "python3"
  },
  "language_info": {
   "codemirror_mode": {
    "name": "ipython",
    "version": 3
   },
   "file_extension": ".py",
   "mimetype": "text/x-python",
   "name": "python",
   "nbconvert_exporter": "python",
   "pygments_lexer": "ipython3",
   "version": "3.11.5"
  }
 },
 "nbformat": 4,
 "nbformat_minor": 5
}
